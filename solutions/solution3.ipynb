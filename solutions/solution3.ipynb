{
  "nbformat": 4,
  "nbformat_minor": 0,
  "metadata": {
    "colab": {
      "provenance": [],
      "authorship_tag": "ABX9TyNy292pw9XWArrEMKWkyht8"
    },
    "kernelspec": {
      "name": "python3",
      "display_name": "Python 3"
    },
    "language_info": {
      "name": "python"
    }
  },
  "cells": [
    {
      "cell_type": "markdown",
      "source": [
        "# Zadatak 3.\n",
        "\n",
        "U tekstualnom fajlu je dat **težinski** graf gradova Srbije. Napisati program koji pronalazi najkraći put između dva izabrana grada i ispisuje ga.\n",
        "U tekstualnom fajlu `edges` se nalaze ivice grafa sa njihovim težinama, dok u tekstualnom fajlu `nodes` piše koji grad je predstavljen kojim čvorom u grafu."
      ],
      "metadata": {
        "id": "ivL3gqWZgZwL"
      }
    },
    {
      "cell_type": "code",
      "execution_count": 25,
      "metadata": {
        "id": "iSS5SQxTfrBQ",
        "colab": {
          "base_uri": "https://localhost:8080/"
        },
        "outputId": "e4fdad7d-cc5c-4f52-f22b-2413e3f86f81"
      },
      "outputs": [
        {
          "output_type": "stream",
          "name": "stdout",
          "text": [
            "Path is:  [1, 12, 14, 4]\n"
          ]
        }
      ],
      "source": [
        "import math\n",
        "\n",
        "def createAdjacencyList():\n",
        "  with open(\"graphWeighted\", \"r\") as f:\n",
        "    line = f.readline()\n",
        "    line = line.strip('\\n')\n",
        "    data = line.split(' ')\n",
        "    n = int(data[0])\n",
        "    m = int(data[1])\n",
        "\n",
        "    adjList = {}\n",
        "    for i in range(1, n + 1):\n",
        "      adjList[i] = []\n",
        "\n",
        "    for line in f:\n",
        "      line = line.strip('\\n')\n",
        "      data = line.split(' ')\n",
        "      u = int(data[0])\n",
        "      v = int(data[1])\n",
        "      w = int(data[2])\n",
        "\n",
        "      adjList[u].append((v, w))\n",
        "      adjList[v].append((u, w))\n",
        "\n",
        "    return adjList\n",
        "\n",
        "def dijkstra(graph, start, end):\n",
        "  visited = [False] * (len(graph) + 1)\n",
        "  distances = [1000] * (len(graph) + 1)\n",
        "  parents = [None] * (len(graph) + 1)\n",
        "\n",
        "  distances[start] = 0\n",
        "  queue = [(start, 0)]\n",
        "\n",
        "  while len(queue) > 0:\n",
        "    queue.sort(key=lambda x: x[1])\n",
        "\n",
        "    current, currDistance = queue.pop(0)\n",
        "    visited[current] = True\n",
        "    for neighbour, weight in graph[current]:\n",
        "      if not visited[neighbour] and currDistance + weight <= distances[neighbour]:\n",
        "        distances[neighbour] = currDistance + weight\n",
        "        parents[neighbour] = current\n",
        "        queue.append((neighbour, currDistance + weight))\n",
        "\n",
        "  path = []\n",
        "  it = end\n",
        "  while parents[it] != None:\n",
        "    path.append(it)\n",
        "    it = parents[it]\n",
        "  path.append(it)\n",
        "  path = path[::-1]\n",
        "\n",
        "  return path, distances[end]\n",
        "\n",
        "def heuristic(node1, node2):\n",
        "    lat1 = math.radians(node1[0])\n",
        "    lon1 = math.radians(node1[1])\n",
        "    lat2 = math.radians(node2[0])\n",
        "    lon2 = math.radians(node2[1])\n",
        "\n",
        "    dlat = lat2 - lat1\n",
        "    dlon = lon2 - lon1\n",
        "\n",
        "    a = math.sin(dlat / 2)**2 + math.cos(lat1) * math.cos(lat2) * math.sin(dlon / 2)**2\n",
        "    c = 2 * math.atan2(math.sqrt(a), math.sqrt(1 - a))\n",
        "\n",
        "    # Radius of Earth in kilometers (use 3956 for miles)\n",
        "    R = 6371.0\n",
        "\n",
        "    # Calculate the distance\n",
        "    distance = R * c\n",
        "\n",
        "    return distance\n",
        "\n",
        "\n",
        "def astar(graph, start, end, nodeCoordinates):\n",
        "  visited = [False] * (len(graph) + 1)\n",
        "  distances = [1000] * (len(graph) + 1)\n",
        "  parents = [None] * (len(graph) + 1)\n",
        "\n",
        "  distances[start] = 0\n",
        "  queue = [(start, 0)]\n",
        "  while len(queue) > 0:\n",
        "    queue.sort(key=lambda x: x[1])\n",
        "\n",
        "    current, _ = queue.pop(0)\n",
        "    currDistance = distances[current]\n",
        "\n",
        "    if current == end:\n",
        "      break\n",
        "\n",
        "    if visited[current]:\n",
        "      continue\n",
        "    else:\n",
        "      visited[current] = True\n",
        "\n",
        "    for neighbour, weight in graph[current]:\n",
        "      if currDistance + weight < distances[neighbour]:\n",
        "        distances[neighbour] = currDistance + weight\n",
        "        parents[neighbour] = current\n",
        "        queue.append((neighbour, distances[neighbour] + heuristic(nodeCoordinates[end], nodeCoordinates[neighbour])))\n",
        "\n",
        "  path = []\n",
        "  it = end\n",
        "  while parents[it] != None:\n",
        "    path.append(it)\n",
        "    it = parents[it]\n",
        "  path.append(it)\n",
        "  path = path[::-1]\n",
        "\n",
        "  return path, distances[end]\n",
        "\n",
        "if __name__ == \"__main__\":\n",
        "  adjList = createAdjacencyList()\n",
        "\n",
        "  nodeCoordinates = {}\n",
        "  with open(\"nodesCoordinates\", \"r\") as f:\n",
        "    for line in f:\n",
        "      line = line.strip('\\n')\n",
        "      line = line.split(' ')\n",
        "      nodeCoordinates[int(line[0])] = (float(line[2]), float(line[3]))\n",
        "\n",
        "  path, distance = astar(adjList, 1, 4, nodeCoordinates)\n",
        "  print(\"Path is: \", path)\n"
      ]
    },
    {
      "cell_type": "code",
      "source": [],
      "metadata": {
        "id": "qq-QTIuSwLEj"
      },
      "execution_count": null,
      "outputs": []
    }
  ]
}